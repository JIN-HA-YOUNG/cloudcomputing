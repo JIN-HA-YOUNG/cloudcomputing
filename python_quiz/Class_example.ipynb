{
 "cells": [
  {
   "cell_type": "code",
   "execution_count": 31,
   "metadata": {},
   "outputs": [],
   "source": [
    "from typing import List, Any"
   ]
  },
  {
   "cell_type": "code",
   "execution_count": 40,
   "metadata": {},
   "outputs": [],
   "source": [
    "class Book:\n",
    "    def __init__(self, title:str, authors: List[str], publisher:str, isbn:str, price:float ) -> None:\n",
    "        self.title = title\n",
    "        self.authors = authors\n",
    "        self.publisher = publisher\n",
    "        self.price = price \n",
    "        \n",
    "    def num_authors(self) -> int:\n",
    "        return len(self.authors) # self : 내장객체, 자기 자신을 나타내는 객체"
   ]
  },
  {
   "cell_type": "code",
   "execution_count": 35,
   "metadata": {},
   "outputs": [],
   "source": [
    "ruby_book = Book('Programming Ruby', \n",
    "                  [\"Thomas\", \"Fowler\", \"Hunt\"],\n",
    "                 'Pragmatic nookshelf',\n",
    "                 '111-11111',\n",
    "                 25.0) # Book -> instance \n",
    "# python_book = Book()"
   ]
  },
  {
   "cell_type": "code",
   "execution_count": 36,
   "metadata": {},
   "outputs": [
    {
     "name": "stdout",
     "output_type": "stream",
     "text": [
      "Programming Ruby\n"
     ]
    }
   ],
   "source": [
    "print(ruby_book.title)"
   ]
  },
  {
   "cell_type": "code",
   "execution_count": 23,
   "metadata": {},
   "outputs": [
    {
     "name": "stdout",
     "output_type": "stream",
     "text": [
      "['Thomas', 'Fowler', 'Hunt']\n"
     ]
    }
   ],
   "source": [
    "ruby_book.authors = [\"Thomas\", \"Fowler\", \"Hunt\"]\n",
    "print(ruby_book.authors)"
   ]
  },
  {
   "cell_type": "code",
   "execution_count": 24,
   "metadata": {},
   "outputs": [
    {
     "name": "stdout",
     "output_type": "stream",
     "text": [
      "3\n"
     ]
    }
   ],
   "source": [
    "print(ruby_book.num_authors())"
   ]
  },
  {
   "cell_type": "code",
   "execution_count": null,
   "metadata": {},
   "outputs": [],
   "source": [
    "dir(Book)"
   ]
  },
  {
   "cell_type": "code",
   "execution_count": 41,
   "metadata": {},
   "outputs": [
    {
     "ename": "TypeError",
     "evalue": "__init__() missing 4 required positional arguments: 'authors', 'publisher', 'isbn', and 'price'",
     "output_type": "error",
     "traceback": [
      "\u001b[1;31m---------------------------------------------------------------------------\u001b[0m",
      "\u001b[1;31mTypeError\u001b[0m                                 Traceback (most recent call last)",
      "\u001b[1;32m<ipython-input-41-6f3b25309996>\u001b[0m in \u001b[0;36m<module>\u001b[1;34m\u001b[0m\n\u001b[1;32m----> 1\u001b[1;33m \u001b[0mpython_book\u001b[0m \u001b[1;33m=\u001b[0m \u001b[0mBook\u001b[0m\u001b[1;33m(\u001b[0m\u001b[1;34m'Programming Python'\u001b[0m\u001b[1;33m)\u001b[0m\u001b[1;33m\u001b[0m\u001b[1;33m\u001b[0m\u001b[0m\n\u001b[0m",
      "\u001b[1;31mTypeError\u001b[0m: __init__() missing 4 required positional arguments: 'authors', 'publisher', 'isbn', and 'price'"
     ]
    }
   ],
   "source": [
    "python_book = Book('Programming Python')"
   ]
  },
  {
   "cell_type": "markdown",
   "metadata": {},
   "source": [
    "### Quiz  1"
   ]
  },
  {
   "cell_type": "code",
   "execution_count": 92,
   "metadata": {},
   "outputs": [],
   "source": [
    "class Letter: \n",
    "    letter = ''\n",
    "    \n",
    "    def write(self, text:str) -> None:\n",
    "        self.letter += text\n",
    "    \n",
    "    def show(self) -> str:\n",
    "        return self.letter\n",
    "    \n",
    "    def clear(self) -> None:\n",
    "        self.letter = ''"
   ]
  },
  {
   "cell_type": "code",
   "execution_count": 93,
   "metadata": {},
   "outputs": [],
   "source": [
    "letter1 = Letter()\n",
    "letter2 = Letter()"
   ]
  },
  {
   "cell_type": "code",
   "execution_count": 94,
   "metadata": {},
   "outputs": [],
   "source": [
    "letter1.write(\"가나다라\")\n",
    "letter1.write(\"카타파하\")\n",
    "\n",
    "letter2.write(\"ABCD\")\n",
    "letter2.write(\"WXYZ\")"
   ]
  },
  {
   "cell_type": "code",
   "execution_count": 95,
   "metadata": {},
   "outputs": [
    {
     "name": "stdout",
     "output_type": "stream",
     "text": [
      "가나다라카타파하\n",
      "ABCDWXYZ\n"
     ]
    }
   ],
   "source": [
    "print(letter1.show())\n",
    "print(letter2.show())"
   ]
  },
  {
   "cell_type": "markdown",
   "metadata": {},
   "source": [
    "### Quiz 2-1"
   ]
  },
  {
   "cell_type": "code",
   "execution_count": 96,
   "metadata": {},
   "outputs": [],
   "source": [
    "class Book:\n",
    "    title = ''\n",
    "    price = 0\n",
    "    \n",
    "    def setTitle(self, title:str) -> None:\n",
    "        self.title = title\n",
    "        \n",
    "    def setPrice(self, price:int) -> None:\n",
    "        self.price = price"
   ]
  },
  {
   "cell_type": "code",
   "execution_count": 97,
   "metadata": {},
   "outputs": [],
   "source": [
    "book1 = Book() \n",
    "book1.setTitle('Python')\n",
    "book1.setPrice(10000)"
   ]
  },
  {
   "cell_type": "code",
   "execution_count": 98,
   "metadata": {},
   "outputs": [],
   "source": [
    "book2 = Book() \n",
    "book2.setTitle('Docker')\n",
    "book2.setPrice(20000)"
   ]
  },
  {
   "cell_type": "code",
   "execution_count": 99,
   "metadata": {},
   "outputs": [
    {
     "name": "stdout",
     "output_type": "stream",
     "text": [
      "Python 10000\n",
      "Docker 20000\n"
     ]
    }
   ],
   "source": [
    "print(book1.title, book1.price)\n",
    "print(book2.title, book2.price)\n"
   ]
  },
  {
   "cell_type": "markdown",
   "metadata": {},
   "source": [
    "### Quiz 2-2"
   ]
  },
  {
   "cell_type": "code",
   "execution_count": 106,
   "metadata": {},
   "outputs": [],
   "source": [
    "class Product:\n",
    "    name = ''\n",
    "    code = ''\n",
    "    count = ''\n",
    "    \n",
    "    def __init__(self, name:str, code:str, count:int):\n",
    "        self.name = name\n",
    "        self.code = code\n",
    "        self.count = count\n",
    "    \n",
    "    def __str__(self) -> str:\n",
    "        return \"Name={0}, Code={1}, Count={2}\".format(self.name, self.code, self.count)\n",
    "    \n",
    "    def show_info(self) -> str:\n",
    "        return \"Name={0}, Code={1}, Count={2}\".format(self.name, self.code, self.count)"
   ]
  },
  {
   "cell_type": "code",
   "execution_count": 107,
   "metadata": {},
   "outputs": [
    {
     "name": "stdout",
     "output_type": "stream",
     "text": [
      "Name=Clock, Code=C00001, Count=500\n"
     ]
    }
   ],
   "source": [
    "p1 = Product('Clock', 'C00001', 500)\n",
    "print(p1.show_info())"
   ]
  },
  {
   "cell_type": "code",
   "execution_count": 108,
   "metadata": {},
   "outputs": [
    {
     "name": "stdout",
     "output_type": "stream",
     "text": [
      "Name=TV, Code=T00001, Count=1500\n"
     ]
    }
   ],
   "source": [
    "p2 = Product('TV', 'T00001', 1500)\n",
    "print(p2.show_info())"
   ]
  },
  {
   "cell_type": "code",
   "execution_count": 110,
   "metadata": {},
   "outputs": [
    {
     "name": "stdout",
     "output_type": "stream",
     "text": [
      "Name=Clock, Code=C00001, Count=500\n"
     ]
    }
   ],
   "source": [
    "print(p1)"
   ]
  },
  {
   "cell_type": "markdown",
   "metadata": {},
   "source": [
    "### Quiz 3-2"
   ]
  },
  {
   "cell_type": "code",
   "execution_count": 111,
   "metadata": {},
   "outputs": [],
   "source": [
    "class Pizza:\n",
    "    def __init__(self):\n",
    "        self.topping = []\n",
    "    \n",
    "    def add_topping(self, food):\n",
    "        self.topping.append(food)\n",
    "    \n",
    "    def remove(self, food):\n",
    "        self.topping.remove(food)\n",
    "        \n",
    "    def show(self) -> list:\n",
    "        return self.topping"
   ]
  },
  {
   "cell_type": "code",
   "execution_count": 112,
   "metadata": {},
   "outputs": [],
   "source": [
    "p1 = Pizza()\n",
    "p1.add_topping('치즈')\n",
    "p1.add_topping('베이컨')\n",
    "p1.add_topping('고구마')\n"
   ]
  },
  {
   "cell_type": "code",
   "execution_count": 113,
   "metadata": {},
   "outputs": [
    {
     "name": "stdout",
     "output_type": "stream",
     "text": [
      "['치즈', '베이컨', '고구마']\n"
     ]
    }
   ],
   "source": [
    "print(p1.show())"
   ]
  },
  {
   "cell_type": "code",
   "execution_count": 114,
   "metadata": {},
   "outputs": [],
   "source": [
    "p2 = Pizza()\n",
    "p2.add_topping('소시지')\n",
    "p2.add_topping('불고기')\n",
    "p2.add_topping('피망')\n",
    "p2.remove('소시지')"
   ]
  },
  {
   "cell_type": "code",
   "execution_count": 115,
   "metadata": {},
   "outputs": [
    {
     "name": "stdout",
     "output_type": "stream",
     "text": [
      "['불고기', '피망']\n"
     ]
    }
   ],
   "source": [
    "print(p2.show())"
   ]
  },
  {
   "cell_type": "code",
   "execution_count": null,
   "metadata": {},
   "outputs": [],
   "source": []
  }
 ],
 "metadata": {
  "kernelspec": {
   "display_name": "Python 3",
   "language": "python",
   "name": "python3"
  },
  "language_info": {
   "codemirror_mode": {
    "name": "ipython",
    "version": 3
   },
   "file_extension": ".py",
   "mimetype": "text/x-python",
   "name": "python",
   "nbconvert_exporter": "python",
   "pygments_lexer": "ipython3",
   "version": "3.8.5"
  }
 },
 "nbformat": 4,
 "nbformat_minor": 4
}
