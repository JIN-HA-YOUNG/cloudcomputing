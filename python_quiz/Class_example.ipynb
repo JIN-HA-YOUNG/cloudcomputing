{
 "cells": [
  {
   "cell_type": "code",
   "execution_count": 31,
   "metadata": {},
   "outputs": [],
   "source": [
    "from typing import List, Any"
   ]
  },
  {
   "cell_type": "code",
   "execution_count": 60,
   "metadata": {},
   "outputs": [],
   "source": [
    "class Book:\n",
    "    def __init__(self, title:str, authors: List[str], publisher:str, isbn:str, price:float ) -> None:\n",
    "        self.title = title\n",
    "        self.authors = authors\n",
    "        self.publisher = publisher\n",
    "        self.isbn = isbn\n",
    "        self.price = price \n",
    "    \n",
    "    def __str__(self) -> str:\n",
    "        return \"\"\"Title:{0}\n",
    "Authors:{1}\n",
    "Publisehr:{2}\n",
    "ISBN:{3}\n",
    "Price:${4}\"\"\".format(self.title, self.authors, self.publisher, self.isbn, self.price)\n",
    "    \n",
    "    def num_authors(self) -> int:\n",
    "        return len(self.authors) # self : 내장객체, 자기 자신을 나타내는 객체"
   ]
  },
  {
   "cell_type": "code",
   "execution_count": 61,
   "metadata": {},
   "outputs": [],
   "source": [
    "ruby_book = Book('Programming Ruby', \n",
    "                  [\"Thomas\", \"Fowler\", \"Hunt\"],\n",
    "                 'Pragmatic nookshelf',\n",
    "                 '111-11111',\n",
    "                 25.0) # Book -> instance \n",
    "# python_book = Book()"
   ]
  },
  {
   "cell_type": "code",
   "execution_count": 47,
   "metadata": {},
   "outputs": [
    {
     "name": "stdout",
     "output_type": "stream",
     "text": [
      "Programming Ruby\n"
     ]
    }
   ],
   "source": [
    "print(ruby_book.title)"
   ]
  },
  {
   "cell_type": "code",
   "execution_count": 48,
   "metadata": {},
   "outputs": [
    {
     "name": "stdout",
     "output_type": "stream",
     "text": [
      "['Thomas', 'Fowler', 'Hunt']\n"
     ]
    }
   ],
   "source": [
    "print(ruby_book.authors)"
   ]
  },
  {
   "cell_type": "code",
   "execution_count": 49,
   "metadata": {},
   "outputs": [
    {
     "name": "stdout",
     "output_type": "stream",
     "text": [
      "3\n"
     ]
    }
   ],
   "source": [
    "print(ruby_book.num_authors())"
   ]
  },
  {
   "cell_type": "code",
   "execution_count": 62,
   "metadata": {},
   "outputs": [],
   "source": [
    "python_book = Book('Programming Python', \n",
    "                  ['Cambell', 'Gries', 'Montoja'],\n",
    "                  'Progamtic Bookshelf',\n",
    "                  '1222-2222',\n",
    "                  '25.0')"
   ]
  },
  {
   "cell_type": "code",
   "execution_count": 51,
   "metadata": {},
   "outputs": [
    {
     "name": "stdout",
     "output_type": "stream",
     "text": [
      "Programming Ruby\n",
      "Programming Python\n"
     ]
    }
   ],
   "source": [
    "print(ruby_book.title)\n",
    "print(python_book.title)"
   ]
  },
  {
   "cell_type": "code",
   "execution_count": 63,
   "metadata": {},
   "outputs": [
    {
     "name": "stdout",
     "output_type": "stream",
     "text": [
      "Title:Programming Python\n",
      "Authors:['Cambell', 'Gries', 'Montoja']\n",
      "Publisehr:Progamtic Bookshelf\n",
      "ISBN:1222-2222\n",
      "Price:$25.0\n"
     ]
    }
   ],
   "source": [
    "print(python_book) # print(python_book.__str__)"
   ]
  },
  {
   "cell_type": "code",
   "execution_count": null,
   "metadata": {},
   "outputs": [],
   "source": []
  }
 ],
 "metadata": {
  "kernelspec": {
   "display_name": "Python 3",
   "language": "python",
   "name": "python3"
  },
  "language_info": {
   "codemirror_mode": {
    "name": "ipython",
    "version": 3
   },
   "file_extension": ".py",
   "mimetype": "text/x-python",
   "name": "python",
   "nbconvert_exporter": "python",
   "pygments_lexer": "ipython3",
   "version": "3.8.5"
  }
 },
 "nbformat": 4,
 "nbformat_minor": 4
}
