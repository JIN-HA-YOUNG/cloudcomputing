{
 "cells": [
  {
   "cell_type": "code",
   "execution_count": null,
   "metadata": {},
   "outputs": [],
   "source": [
    "pip install pymysql"
   ]
  },
  {
   "cell_type": "code",
   "execution_count": null,
   "metadata": {},
   "outputs": [],
   "source": [
    "'''\n",
    "CREATE TABLE member(\n",
    "id       VARCAHR(20) PRIMARY KEY,\n",
    "name     VARCHAR(20) NOT NULL,\n",
    "pwd      VARCHAR(20) NOT NULL,\n",
    "reg_date DATETIME\n",
    ")\n",
    "'''"
   ]
  },
  {
   "cell_type": "code",
   "execution_count": null,
   "metadata": {},
   "outputs": [],
   "source": [
    "import pymysql"
   ]
  },
  {
   "cell_type": "code",
   "execution_count": null,
   "metadata": {},
   "outputs": [],
   "source": [
    "#1. Connection\n",
    "# Sqllite -> conn = sqlite3.connect('example.db')\n",
    "conn = pymysql.connect(host='127.0.0.1', user='root', password='', port=13306, db='mydb', charset='utf8')"
   ]
  },
  {
   "cell_type": "code",
   "execution_count": null,
   "metadata": {},
   "outputs": [],
   "source": [
    "cursor = conn.cursor()"
   ]
  },
  {
   "cell_type": "code",
   "execution_count": 7,
   "metadata": {},
   "outputs": [],
   "source": [
    "insertSql = \"\"\"INSERT INTO member(id, pwd, name, reg_date) VALUES('admin','1234','Administrator',NOW())\"\"\"\n",
    "cursor.execute(insertSql)\n",
    "conn.commit()"
   ]
  },
  {
   "cell_type": "code",
   "execution_count": 9,
   "metadata": {},
   "outputs": [],
   "source": [
    "insertSql = \"\"\"INSERT INTO member(id, pwd, name, reg_date) VALUES(%s, %s, %s, NOW())\"\"\"\n",
    "cursor.execute(insertSql, ('user1', '1111', 'TEST\\'s USER'))\n",
    "conn.commit()"
   ]
  },
  {
   "cell_type": "code",
   "execution_count": 10,
   "metadata": {},
   "outputs": [
    {
     "name": "stdout",
     "output_type": "stream",
     "text": [
      "('admin', 'Administrator', '1234', datetime.datetime(2021, 1, 8, 6, 56, 47))\n",
      "('user1', \"TEST's USER\", '1111', datetime.datetime(2021, 1, 8, 6, 57, 36))\n"
     ]
    }
   ],
   "source": [
    "selectSql = 'SELECT * FROM member'\n",
    "cursor.execute(selectSql)\n",
    "data = cursor.fetchall()\n",
    "\n",
    "for row in data:\n",
    "    print(row)"
   ]
  },
  {
   "cell_type": "code",
   "execution_count": null,
   "metadata": {},
   "outputs": [],
   "source": []
  }
 ],
 "metadata": {
  "kernelspec": {
   "display_name": "Python 3",
   "language": "python",
   "name": "python3"
  },
  "language_info": {
   "codemirror_mode": {
    "name": "ipython",
    "version": 3
   },
   "file_extension": ".py",
   "mimetype": "text/x-python",
   "name": "python",
   "nbconvert_exporter": "python",
   "pygments_lexer": "ipython3",
   "version": "3.9.1"
  }
 },
 "nbformat": 4,
 "nbformat_minor": 4
}
