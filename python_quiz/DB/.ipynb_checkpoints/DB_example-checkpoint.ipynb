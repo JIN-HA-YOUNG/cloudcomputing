{
 "cells": [
  {
   "cell_type": "markdown",
   "metadata": {},
   "source": [
    "### Create table"
   ]
  },
  {
   "cell_type": "code",
   "execution_count": 1,
   "metadata": {},
   "outputs": [],
   "source": [
    "# 1. module 가져오기 \n",
    "import sqlite3"
   ]
  },
  {
   "cell_type": "code",
   "execution_count": 2,
   "metadata": {},
   "outputs": [],
   "source": [
    "# 2. 데이터베이스 연결(커넥션)\n",
    "conn = sqlite3.connect('example.db')"
   ]
  },
  {
   "cell_type": "code",
   "execution_count": 3,
   "metadata": {},
   "outputs": [],
   "source": [
    "# 3. 커서 획득\n",
    "# SQL (Structureed Query Language)\n",
    "#   - DDL (Data Definition Language) - 정의어 -> CREATE, DTOP, ALTER\n",
    "#   - DML (Data Manipulation Language) - 조작어 -> SELECT, INSERT, UPDATE, DELETE\n",
    "#   - DCL (Data Control Language) - 제어어 -> GRANT, REVOKE\n",
    "cursor = conn.cursor()"
   ]
  },
  {
   "cell_type": "code",
   "execution_count": 4,
   "metadata": {},
   "outputs": [],
   "source": [
    "sql = '''\n",
    "CREATE TABLE member(\n",
    "num INTEGER PRIMARY KEY AUTOINCREMENT, \n",
    "name TEXT,\n",
    "email TEXT,\n",
    "c_date TEXT\n",
    ")\n",
    "'''"
   ]
  },
  {
   "cell_type": "code",
   "execution_count": 5,
   "metadata": {},
   "outputs": [
    {
     "data": {
      "text/plain": [
       "<sqlite3.Cursor at 0x7fb548850c70>"
      ]
     },
     "execution_count": 5,
     "metadata": {},
     "output_type": "execute_result"
    }
   ],
   "source": [
    "# execute의 반환값은 SQL의 종류에 따라 다름 \n",
    "cursor.execute(sql)"
   ]
  },
  {
   "cell_type": "code",
   "execution_count": 6,
   "metadata": {},
   "outputs": [],
   "source": [
    "conn.commit()"
   ]
  },
  {
   "cell_type": "code",
   "execution_count": 7,
   "metadata": {},
   "outputs": [],
   "source": [
    "cursor.close()\n",
    "conn.close()"
   ]
  },
  {
   "cell_type": "markdown",
   "metadata": {},
   "source": [
    "### Insert data 1"
   ]
  },
  {
   "cell_type": "code",
   "execution_count": 8,
   "metadata": {},
   "outputs": [],
   "source": [
    "import sqlite3\n",
    "conn = sqlite3.connect('example.db')\n",
    "cursor = conn.cursor()"
   ]
  },
  {
   "cell_type": "code",
   "execution_count": 9,
   "metadata": {},
   "outputs": [],
   "source": [
    "sql = '''INSERT INTO member(num, name, email, c_date)\n",
    "values(null, 'Administrator', 'admin@test.com', datetime('now', 'localtime'))\n",
    "'''\n",
    "\n",
    "# id = 'Admin'\n",
    "# sql2 = 'INSERT INTO member(num, name, email, c_date) values(null, ' \n",
    "# + '\\'' + id + '\\'' + ', ' + '\\'admin@test.com\\'' + ',' + 'datetime(\\'now\\', \\'localtime\\''\n",
    "# + '))'\n",
    "# '''"
   ]
  },
  {
   "cell_type": "code",
   "execution_count": 10,
   "metadata": {},
   "outputs": [
    {
     "data": {
      "text/plain": [
       "<sqlite3.Cursor at 0x7fb5488502d0>"
      ]
     },
     "execution_count": 10,
     "metadata": {},
     "output_type": "execute_result"
    }
   ],
   "source": [
    "cursor.execute(sql)"
   ]
  },
  {
   "cell_type": "code",
   "execution_count": 12,
   "metadata": {},
   "outputs": [],
   "source": [
    "conn.commit()\n",
    "cursor.close()\n",
    "conn.close()"
   ]
  },
  {
   "cell_type": "markdown",
   "metadata": {},
   "source": [
    "### Insert data 2"
   ]
  },
  {
   "cell_type": "code",
   "execution_count": 32,
   "metadata": {},
   "outputs": [],
   "source": [
    "import sqlite3\n",
    "conn = sqlite3.connect('example.db')\n",
    "cursor = conn.cursor()"
   ]
  },
  {
   "cell_type": "code",
   "execution_count": 33,
   "metadata": {},
   "outputs": [],
   "source": [
    "sql = '''INSERT INTO member(num, name, email, c_date) \n",
    "values(null, ?, ?, datetime('now', 'localtime'))\n",
    "'''"
   ]
  },
  {
   "cell_type": "code",
   "execution_count": 34,
   "metadata": {},
   "outputs": [
    {
     "data": {
      "text/plain": [
       "<sqlite3.Cursor at 0x7fb528fefe30>"
      ]
     },
     "execution_count": 34,
     "metadata": {},
     "output_type": "execute_result"
    }
   ],
   "source": [
    "cursor.execute(sql, ('User2', 'user2@test.com'))"
   ]
  },
  {
   "cell_type": "code",
   "execution_count": 35,
   "metadata": {},
   "outputs": [],
   "source": [
    "conn.commit()\n",
    "cursor.close()\n",
    "conn.close()"
   ]
  },
  {
   "cell_type": "markdown",
   "metadata": {},
   "source": [
    "### Select 1"
   ]
  },
  {
   "cell_type": "code",
   "execution_count": 17,
   "metadata": {},
   "outputs": [],
   "source": [
    "import sqlite3\n",
    "conn = sqlite3.connect('example.db')\n",
    "cursor = conn.cursor()"
   ]
  },
  {
   "cell_type": "code",
   "execution_count": 18,
   "metadata": {},
   "outputs": [],
   "source": [
    "# DML \n",
    "# CRUD (Create, Read, Update, Delete) -> Insert, Select, Update, Delete\n",
    "sql1 = 'SELECT num, name, email, c_date FROM member'"
   ]
  },
  {
   "cell_type": "code",
   "execution_count": 19,
   "metadata": {},
   "outputs": [
    {
     "data": {
      "text/plain": [
       "<sqlite3.Cursor at 0x7fb528fefa40>"
      ]
     },
     "execution_count": 19,
     "metadata": {},
     "output_type": "execute_result"
    }
   ],
   "source": [
    "cursor.execute(sql1)"
   ]
  },
  {
   "cell_type": "code",
   "execution_count": 20,
   "metadata": {},
   "outputs": [],
   "source": [
    "# fetch 함수를 이용해서 , 테이블셋 가져오기 \n",
    "# fetchall(), fetchmany(), fetchone()\n",
    "rows = cursor.fetchall()"
   ]
  },
  {
   "cell_type": "code",
   "execution_count": 22,
   "metadata": {},
   "outputs": [
    {
     "name": "stdout",
     "output_type": "stream",
     "text": [
      "No:1, Name:Administrator, Email:admin@test.com, Created date:2021-01-08 11:20:24\n",
      "No:2, Name:User1, Email:user@test.com, Created date:2021-01-08 11:28:10\n"
     ]
    }
   ],
   "source": [
    "for row in rows:\n",
    "    print('No:{0}, Name:{1}, Email:{2}, Created date:{3}'.format(row[0], row[1], row[2], row[3]))"
   ]
  },
  {
   "cell_type": "code",
   "execution_count": 23,
   "metadata": {},
   "outputs": [],
   "source": [
    "cursor.close()\n",
    "conn.close()"
   ]
  },
  {
   "cell_type": "markdown",
   "metadata": {},
   "source": [
    "### Select 2"
   ]
  },
  {
   "cell_type": "code",
   "execution_count": 36,
   "metadata": {},
   "outputs": [],
   "source": [
    "import sqlite3\n",
    "conn = sqlite3.connect('example.db')\n",
    "cursor = conn.cursor()"
   ]
  },
  {
   "cell_type": "code",
   "execution_count": 25,
   "metadata": {},
   "outputs": [
    {
     "name": "stdout",
     "output_type": "stream",
     "text": [
      "No:1, Name:Administrator, Email:admin@test.com, Created date:2021-01-08 11:20:24\n"
     ]
    }
   ],
   "source": [
    "# SELECT num, name, email, c_date FROM member WHERE email='admin@test.com'\n",
    "sql2 = 'SELECT num, name, email, c_date FROM member WHERE email=\\'admin@test.com\\''\n",
    "cursor.execute(sql2)\n",
    "row = cursor.fetchone()\n",
    "print('No:{0}, Name:{1}, Email:{2}, Created date:{3}'.format(row[0], row[1], row[2], row[3]))"
   ]
  },
  {
   "cell_type": "code",
   "execution_count": 29,
   "metadata": {},
   "outputs": [
    {
     "name": "stdout",
     "output_type": "stream",
     "text": [
      "데이터가 존재하지 않습니다.\n"
     ]
    }
   ],
   "source": [
    "sql2 = 'SELECT num, name, email, c_date FROM member WHERE email=\\'admin_fake@test.com\\''\n",
    "cursor.execute(sql2)\n",
    "row = cursor.fetchone()\n",
    "if row != None:\n",
    "    print('No:{0}, Name:{1}, Email:{2}, Created date:{3}'.format(row[0], row[1], row[2], row[3]))\n",
    "else:\n",
    "    print('데이터가 존재하지 않습니다.')"
   ]
  },
  {
   "cell_type": "markdown",
   "metadata": {},
   "source": [
    "### Select 3"
   ]
  },
  {
   "cell_type": "code",
   "execution_count": 37,
   "metadata": {},
   "outputs": [
    {
     "name": "stdout",
     "output_type": "stream",
     "text": [
      "No:1, Name:Administrator, Email:admin@test.com, Created date:2021-01-08 11:20:24\n",
      "No:2, Name:User1, Email:user@test.com, Created date:2021-01-08 11:28:10\n",
      "No:3, Name:User2, Email:user2@test.com, Created date:2021-01-08 11:52:37\n"
     ]
    }
   ],
   "source": [
    "sql3 = 'SELECT num, name, email, c_date FROM member WHERE num > 0'\n",
    "cursor.execute(sql3)\n",
    "while True:\n",
    "    row = cursor.fetchone()\n",
    "    if row == None:\n",
    "        break\n",
    "    print('No:{0}, Name:{1}, Email:{2}, Created date:{3}'.format(row[0], row[1], row[2], row[3]))"
   ]
  },
  {
   "cell_type": "code",
   "execution_count": 38,
   "metadata": {},
   "outputs": [],
   "source": [
    "cursor.close()\n",
    "conn.close()"
   ]
  },
  {
   "cell_type": "code",
   "execution_count": null,
   "metadata": {},
   "outputs": [],
   "source": []
  }
 ],
 "metadata": {
  "kernelspec": {
   "display_name": "Python 3",
   "language": "python",
   "name": "python3"
  },
  "language_info": {
   "codemirror_mode": {
    "name": "ipython",
    "version": 3
   },
   "file_extension": ".py",
   "mimetype": "text/x-python",
   "name": "python",
   "nbconvert_exporter": "python",
   "pygments_lexer": "ipython3",
   "version": "3.8.3"
  }
 },
 "nbformat": 4,
 "nbformat_minor": 4
}
